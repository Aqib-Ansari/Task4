{
  "cells": [
    {
      "cell_type": "code",
      "execution_count": null,
      "metadata": {
        "id": "C_dJeJdwLc_g"
      },
      "outputs": [],
      "source": [
        "import numpy as np\n",
        "import pandas as pd\n",
        "import matplotlib.pyplot as plt\n",
        "\n"
      ]
    },
    {
      "cell_type": "code",
      "execution_count": null,
      "metadata": {
        "id": "gkTYFlsCLruK"
      },
      "outputs": [],
      "source": [
        "dataset = pd.read_csv('spam.csv',encoding='latin-1')"
      ]
    },
    {
      "cell_type": "code",
      "execution_count": null,
      "metadata": {
        "colab": {
          "base_uri": "https://localhost:8080/",
          "height": 302
        },
        "id": "rxX1DtGIL4Eb",
        "outputId": "d03a7a21-316d-481e-9279-5a5239936e77"
      },
      "outputs": [
        {
          "data": {
            "text/html": [
              "\n",
              "  <div id=\"df-4ac5bc69-e028-4704-a16a-d2d8c089036e\">\n",
              "    <div class=\"colab-df-container\">\n",
              "      <div>\n",
              "<style scoped>\n",
              "    .dataframe tbody tr th:only-of-type {\n",
              "        vertical-align: middle;\n",
              "    }\n",
              "\n",
              "    .dataframe tbody tr th {\n",
              "        vertical-align: top;\n",
              "    }\n",
              "\n",
              "    .dataframe thead th {\n",
              "        text-align: right;\n",
              "    }\n",
              "</style>\n",
              "<table border=\"1\" class=\"dataframe\">\n",
              "  <thead>\n",
              "    <tr style=\"text-align: right;\">\n",
              "      <th></th>\n",
              "      <th>v1</th>\n",
              "      <th>v2</th>\n",
              "      <th>Unnamed: 2</th>\n",
              "      <th>Unnamed: 3</th>\n",
              "      <th>Unnamed: 4</th>\n",
              "    </tr>\n",
              "  </thead>\n",
              "  <tbody>\n",
              "    <tr>\n",
              "      <th>0</th>\n",
              "      <td>ham</td>\n",
              "      <td>Go until jurong point, crazy.. Available only ...</td>\n",
              "      <td>NaN</td>\n",
              "      <td>NaN</td>\n",
              "      <td>NaN</td>\n",
              "    </tr>\n",
              "    <tr>\n",
              "      <th>1</th>\n",
              "      <td>ham</td>\n",
              "      <td>Ok lar... Joking wif u oni...</td>\n",
              "      <td>NaN</td>\n",
              "      <td>NaN</td>\n",
              "      <td>NaN</td>\n",
              "    </tr>\n",
              "    <tr>\n",
              "      <th>2</th>\n",
              "      <td>spam</td>\n",
              "      <td>Free entry in 2 a wkly comp to win FA Cup fina...</td>\n",
              "      <td>NaN</td>\n",
              "      <td>NaN</td>\n",
              "      <td>NaN</td>\n",
              "    </tr>\n",
              "    <tr>\n",
              "      <th>3</th>\n",
              "      <td>ham</td>\n",
              "      <td>U dun say so early hor... U c already then say...</td>\n",
              "      <td>NaN</td>\n",
              "      <td>NaN</td>\n",
              "      <td>NaN</td>\n",
              "    </tr>\n",
              "    <tr>\n",
              "      <th>4</th>\n",
              "      <td>ham</td>\n",
              "      <td>Nah I don't think he goes to usf, he lives aro...</td>\n",
              "      <td>NaN</td>\n",
              "      <td>NaN</td>\n",
              "      <td>NaN</td>\n",
              "    </tr>\n",
              "  </tbody>\n",
              "</table>\n",
              "</div>\n",
              "      <button class=\"colab-df-convert\" onclick=\"convertToInteractive('df-4ac5bc69-e028-4704-a16a-d2d8c089036e')\"\n",
              "              title=\"Convert this dataframe to an interactive table.\"\n",
              "              style=\"display:none;\">\n",
              "        \n",
              "  <svg xmlns=\"http://www.w3.org/2000/svg\" height=\"24px\"viewBox=\"0 0 24 24\"\n",
              "       width=\"24px\">\n",
              "    <path d=\"M0 0h24v24H0V0z\" fill=\"none\"/>\n",
              "    <path d=\"M18.56 5.44l.94 2.06.94-2.06 2.06-.94-2.06-.94-.94-2.06-.94 2.06-2.06.94zm-11 1L8.5 8.5l.94-2.06 2.06-.94-2.06-.94L8.5 2.5l-.94 2.06-2.06.94zm10 10l.94 2.06.94-2.06 2.06-.94-2.06-.94-.94-2.06-.94 2.06-2.06.94z\"/><path d=\"M17.41 7.96l-1.37-1.37c-.4-.4-.92-.59-1.43-.59-.52 0-1.04.2-1.43.59L10.3 9.45l-7.72 7.72c-.78.78-.78 2.05 0 2.83L4 21.41c.39.39.9.59 1.41.59.51 0 1.02-.2 1.41-.59l7.78-7.78 2.81-2.81c.8-.78.8-2.07 0-2.86zM5.41 20L4 18.59l7.72-7.72 1.47 1.35L5.41 20z\"/>\n",
              "  </svg>\n",
              "      </button>\n",
              "      \n",
              "  <style>\n",
              "    .colab-df-container {\n",
              "      display:flex;\n",
              "      flex-wrap:wrap;\n",
              "      gap: 12px;\n",
              "    }\n",
              "\n",
              "    .colab-df-convert {\n",
              "      background-color: #E8F0FE;\n",
              "      border: none;\n",
              "      border-radius: 50%;\n",
              "      cursor: pointer;\n",
              "      display: none;\n",
              "      fill: #1967D2;\n",
              "      height: 32px;\n",
              "      padding: 0 0 0 0;\n",
              "      width: 32px;\n",
              "    }\n",
              "\n",
              "    .colab-df-convert:hover {\n",
              "      background-color: #E2EBFA;\n",
              "      box-shadow: 0px 1px 2px rgba(60, 64, 67, 0.3), 0px 1px 3px 1px rgba(60, 64, 67, 0.15);\n",
              "      fill: #174EA6;\n",
              "    }\n",
              "\n",
              "    [theme=dark] .colab-df-convert {\n",
              "      background-color: #3B4455;\n",
              "      fill: #D2E3FC;\n",
              "    }\n",
              "\n",
              "    [theme=dark] .colab-df-convert:hover {\n",
              "      background-color: #434B5C;\n",
              "      box-shadow: 0px 1px 3px 1px rgba(0, 0, 0, 0.15);\n",
              "      filter: drop-shadow(0px 1px 2px rgba(0, 0, 0, 0.3));\n",
              "      fill: #FFFFFF;\n",
              "    }\n",
              "  </style>\n",
              "\n",
              "      <script>\n",
              "        const buttonEl =\n",
              "          document.querySelector('#df-4ac5bc69-e028-4704-a16a-d2d8c089036e button.colab-df-convert');\n",
              "        buttonEl.style.display =\n",
              "          google.colab.kernel.accessAllowed ? 'block' : 'none';\n",
              "\n",
              "        async function convertToInteractive(key) {\n",
              "          const element = document.querySelector('#df-4ac5bc69-e028-4704-a16a-d2d8c089036e');\n",
              "          const dataTable =\n",
              "            await google.colab.kernel.invokeFunction('convertToInteractive',\n",
              "                                                     [key], {});\n",
              "          if (!dataTable) return;\n",
              "\n",
              "          const docLinkHtml = 'Like what you see? Visit the ' +\n",
              "            '<a target=\"_blank\" href=https://colab.research.google.com/notebooks/data_table.ipynb>data table notebook</a>'\n",
              "            + ' to learn more about interactive tables.';\n",
              "          element.innerHTML = '';\n",
              "          dataTable['output_type'] = 'display_data';\n",
              "          await google.colab.output.renderOutput(dataTable, element);\n",
              "          const docLink = document.createElement('div');\n",
              "          docLink.innerHTML = docLinkHtml;\n",
              "          element.appendChild(docLink);\n",
              "        }\n",
              "      </script>\n",
              "    </div>\n",
              "  </div>\n",
              "  "
            ],
            "text/plain": [
              "     v1                                                 v2 Unnamed: 2  \\\n",
              "0   ham  Go until jurong point, crazy.. Available only ...        NaN   \n",
              "1   ham                      Ok lar... Joking wif u oni...        NaN   \n",
              "2  spam  Free entry in 2 a wkly comp to win FA Cup fina...        NaN   \n",
              "3   ham  U dun say so early hor... U c already then say...        NaN   \n",
              "4   ham  Nah I don't think he goes to usf, he lives aro...        NaN   \n",
              "\n",
              "  Unnamed: 3 Unnamed: 4  \n",
              "0        NaN        NaN  \n",
              "1        NaN        NaN  \n",
              "2        NaN        NaN  \n",
              "3        NaN        NaN  \n",
              "4        NaN        NaN  "
            ]
          },
          "execution_count": 3,
          "metadata": {},
          "output_type": "execute_result"
        }
      ],
      "source": [
        "dataset.head()"
      ]
    },
    {
      "cell_type": "code",
      "execution_count": null,
      "metadata": {
        "colab": {
          "base_uri": "https://localhost:8080/"
        },
        "id": "m7_UMCk7NDKH",
        "outputId": "faa9cd3c-29ef-4ada-b6e9-fb520d5ee0a4"
      },
      "outputs": [
        {
          "name": "stdout",
          "output_type": "stream",
          "text": [
            "<class 'pandas.core.frame.DataFrame'>\n",
            "RangeIndex: 5572 entries, 0 to 5571\n",
            "Data columns (total 5 columns):\n",
            " #   Column      Non-Null Count  Dtype \n",
            "---  ------      --------------  ----- \n",
            " 0   v1          5572 non-null   object\n",
            " 1   v2          5572 non-null   object\n",
            " 2   Unnamed: 2  50 non-null     object\n",
            " 3   Unnamed: 3  12 non-null     object\n",
            " 4   Unnamed: 4  6 non-null      object\n",
            "dtypes: object(5)\n",
            "memory usage: 217.8+ KB\n"
          ]
        }
      ],
      "source": [
        "dataset.info()"
      ]
    },
    {
      "cell_type": "code",
      "execution_count": null,
      "metadata": {
        "id": "RefAZaTbNJPp"
      },
      "outputs": [],
      "source": [
        "dataset.drop(columns=['Unnamed: 2','Unnamed: 3','Unnamed: 4'],inplace=True)"
      ]
    },
    {
      "cell_type": "code",
      "execution_count": null,
      "metadata": {
        "colab": {
          "base_uri": "https://localhost:8080/",
          "height": 206
        },
        "id": "wbblYpm6NmVt",
        "outputId": "f94c9b5c-46e1-4ddb-81e2-d4b9066abed6"
      },
      "outputs": [
        {
          "data": {
            "text/html": [
              "\n",
              "  <div id=\"df-2e03f60d-6d3b-403f-85a9-d03b8ff79881\">\n",
              "    <div class=\"colab-df-container\">\n",
              "      <div>\n",
              "<style scoped>\n",
              "    .dataframe tbody tr th:only-of-type {\n",
              "        vertical-align: middle;\n",
              "    }\n",
              "\n",
              "    .dataframe tbody tr th {\n",
              "        vertical-align: top;\n",
              "    }\n",
              "\n",
              "    .dataframe thead th {\n",
              "        text-align: right;\n",
              "    }\n",
              "</style>\n",
              "<table border=\"1\" class=\"dataframe\">\n",
              "  <thead>\n",
              "    <tr style=\"text-align: right;\">\n",
              "      <th></th>\n",
              "      <th>v1</th>\n",
              "      <th>v2</th>\n",
              "    </tr>\n",
              "  </thead>\n",
              "  <tbody>\n",
              "    <tr>\n",
              "      <th>0</th>\n",
              "      <td>ham</td>\n",
              "      <td>Go until jurong point, crazy.. Available only ...</td>\n",
              "    </tr>\n",
              "    <tr>\n",
              "      <th>1</th>\n",
              "      <td>ham</td>\n",
              "      <td>Ok lar... Joking wif u oni...</td>\n",
              "    </tr>\n",
              "    <tr>\n",
              "      <th>2</th>\n",
              "      <td>spam</td>\n",
              "      <td>Free entry in 2 a wkly comp to win FA Cup fina...</td>\n",
              "    </tr>\n",
              "    <tr>\n",
              "      <th>3</th>\n",
              "      <td>ham</td>\n",
              "      <td>U dun say so early hor... U c already then say...</td>\n",
              "    </tr>\n",
              "    <tr>\n",
              "      <th>4</th>\n",
              "      <td>ham</td>\n",
              "      <td>Nah I don't think he goes to usf, he lives aro...</td>\n",
              "    </tr>\n",
              "  </tbody>\n",
              "</table>\n",
              "</div>\n",
              "      <button class=\"colab-df-convert\" onclick=\"convertToInteractive('df-2e03f60d-6d3b-403f-85a9-d03b8ff79881')\"\n",
              "              title=\"Convert this dataframe to an interactive table.\"\n",
              "              style=\"display:none;\">\n",
              "        \n",
              "  <svg xmlns=\"http://www.w3.org/2000/svg\" height=\"24px\"viewBox=\"0 0 24 24\"\n",
              "       width=\"24px\">\n",
              "    <path d=\"M0 0h24v24H0V0z\" fill=\"none\"/>\n",
              "    <path d=\"M18.56 5.44l.94 2.06.94-2.06 2.06-.94-2.06-.94-.94-2.06-.94 2.06-2.06.94zm-11 1L8.5 8.5l.94-2.06 2.06-.94-2.06-.94L8.5 2.5l-.94 2.06-2.06.94zm10 10l.94 2.06.94-2.06 2.06-.94-2.06-.94-.94-2.06-.94 2.06-2.06.94z\"/><path d=\"M17.41 7.96l-1.37-1.37c-.4-.4-.92-.59-1.43-.59-.52 0-1.04.2-1.43.59L10.3 9.45l-7.72 7.72c-.78.78-.78 2.05 0 2.83L4 21.41c.39.39.9.59 1.41.59.51 0 1.02-.2 1.41-.59l7.78-7.78 2.81-2.81c.8-.78.8-2.07 0-2.86zM5.41 20L4 18.59l7.72-7.72 1.47 1.35L5.41 20z\"/>\n",
              "  </svg>\n",
              "      </button>\n",
              "      \n",
              "  <style>\n",
              "    .colab-df-container {\n",
              "      display:flex;\n",
              "      flex-wrap:wrap;\n",
              "      gap: 12px;\n",
              "    }\n",
              "\n",
              "    .colab-df-convert {\n",
              "      background-color: #E8F0FE;\n",
              "      border: none;\n",
              "      border-radius: 50%;\n",
              "      cursor: pointer;\n",
              "      display: none;\n",
              "      fill: #1967D2;\n",
              "      height: 32px;\n",
              "      padding: 0 0 0 0;\n",
              "      width: 32px;\n",
              "    }\n",
              "\n",
              "    .colab-df-convert:hover {\n",
              "      background-color: #E2EBFA;\n",
              "      box-shadow: 0px 1px 2px rgba(60, 64, 67, 0.3), 0px 1px 3px 1px rgba(60, 64, 67, 0.15);\n",
              "      fill: #174EA6;\n",
              "    }\n",
              "\n",
              "    [theme=dark] .colab-df-convert {\n",
              "      background-color: #3B4455;\n",
              "      fill: #D2E3FC;\n",
              "    }\n",
              "\n",
              "    [theme=dark] .colab-df-convert:hover {\n",
              "      background-color: #434B5C;\n",
              "      box-shadow: 0px 1px 3px 1px rgba(0, 0, 0, 0.15);\n",
              "      filter: drop-shadow(0px 1px 2px rgba(0, 0, 0, 0.3));\n",
              "      fill: #FFFFFF;\n",
              "    }\n",
              "  </style>\n",
              "\n",
              "      <script>\n",
              "        const buttonEl =\n",
              "          document.querySelector('#df-2e03f60d-6d3b-403f-85a9-d03b8ff79881 button.colab-df-convert');\n",
              "        buttonEl.style.display =\n",
              "          google.colab.kernel.accessAllowed ? 'block' : 'none';\n",
              "\n",
              "        async function convertToInteractive(key) {\n",
              "          const element = document.querySelector('#df-2e03f60d-6d3b-403f-85a9-d03b8ff79881');\n",
              "          const dataTable =\n",
              "            await google.colab.kernel.invokeFunction('convertToInteractive',\n",
              "                                                     [key], {});\n",
              "          if (!dataTable) return;\n",
              "\n",
              "          const docLinkHtml = 'Like what you see? Visit the ' +\n",
              "            '<a target=\"_blank\" href=https://colab.research.google.com/notebooks/data_table.ipynb>data table notebook</a>'\n",
              "            + ' to learn more about interactive tables.';\n",
              "          element.innerHTML = '';\n",
              "          dataTable['output_type'] = 'display_data';\n",
              "          await google.colab.output.renderOutput(dataTable, element);\n",
              "          const docLink = document.createElement('div');\n",
              "          docLink.innerHTML = docLinkHtml;\n",
              "          element.appendChild(docLink);\n",
              "        }\n",
              "      </script>\n",
              "    </div>\n",
              "  </div>\n",
              "  "
            ],
            "text/plain": [
              "     v1                                                 v2\n",
              "0   ham  Go until jurong point, crazy.. Available only ...\n",
              "1   ham                      Ok lar... Joking wif u oni...\n",
              "2  spam  Free entry in 2 a wkly comp to win FA Cup fina...\n",
              "3   ham  U dun say so early hor... U c already then say...\n",
              "4   ham  Nah I don't think he goes to usf, he lives aro..."
            ]
          },
          "execution_count": 7,
          "metadata": {},
          "output_type": "execute_result"
        }
      ],
      "source": [
        "dataset.head()"
      ]
    },
    {
      "cell_type": "code",
      "execution_count": null,
      "metadata": {
        "colab": {
          "base_uri": "https://localhost:8080/"
        },
        "id": "V_DEeHqBNocu",
        "outputId": "f616d5ca-6672-4273-d552-9a66ac1452a0"
      },
      "outputs": [
        {
          "name": "stderr",
          "output_type": "stream",
          "text": [
            "[nltk_data] Downloading package stopwords to /root/nltk_data...\n",
            "[nltk_data]   Package stopwords is already up-to-date!\n"
          ]
        }
      ],
      "source": [
        "import re\n",
        "import nltk\n",
        "nltk.download('stopwords')\n",
        "from nltk.corpus import stopwords\n",
        "from nltk.stem.porter import PorterStemmer\n",
        "corpus = []\n"
      ]
    },
    {
      "cell_type": "code",
      "execution_count": null,
      "metadata": {
        "id": "zTciu8CnO0ya"
      },
      "outputs": [],
      "source": [
        "for i in range(0,5572):\n",
        "  sms = re.sub('[^a-zA-Z]',' ',dataset['v2'][i])\n",
        "  sms = sms.lower()\n",
        "  sms = sms.split()\n",
        "  ps = PorterStemmer()\n",
        "  allstopwords = stopwords.words('english')\n",
        "\n",
        "  sms = [ps.stem(word) for word in sms if not word in set(allstopwords)]\n",
        "  sms = ' '.join(sms)\n",
        "  corpus.append(sms)"
      ]
    },
    {
      "cell_type": "code",
      "execution_count": null,
      "metadata": {
        "colab": {
          "base_uri": "https://localhost:8080/"
        },
        "id": "vti8GcGIPoS8",
        "outputId": "dea5fcd5-0ed1-4e96-e875-54dd71499bf3"
      },
      "outputs": [
        {
          "data": {
            "text/plain": [
              "['ok lar joke wif u oni',\n",
              " 'free entri wkli comp win fa cup final tkt st may text fa receiv entri question std txt rate c appli',\n",
              " 'u dun say earli hor u c alreadi say',\n",
              " 'nah think goe usf live around though']"
            ]
          },
          "execution_count": 15,
          "metadata": {},
          "output_type": "execute_result"
        }
      ],
      "source": [
        "corpus[1:5]"
      ]
    },
    {
      "cell_type": "code",
      "execution_count": null,
      "metadata": {
        "id": "3QffWBoPQbIO"
      },
      "outputs": [],
      "source": [
        "from sklearn.feature_extraction.text import CountVectorizer\n",
        "cv = CountVectorizer(max_features=2000)\n",
        "X = cv.fit_transform(corpus).toarray()"
      ]
    },
    {
      "cell_type": "code",
      "execution_count": null,
      "metadata": {
        "colab": {
          "base_uri": "https://localhost:8080/"
        },
        "id": "hF823zsCQ0l4",
        "outputId": "923ab251-51f4-4e40-dd31-f032092229fa"
      },
      "outputs": [
        {
          "data": {
            "text/plain": [
              "2000"
            ]
          },
          "execution_count": 17,
          "metadata": {},
          "output_type": "execute_result"
        }
      ],
      "source": [
        "len(X[0])"
      ]
    },
    {
      "cell_type": "code",
      "execution_count": null,
      "metadata": {
        "colab": {
          "base_uri": "https://localhost:8080/"
        },
        "id": "pwQsI7-vQ28K",
        "outputId": "cf595497-c4cd-4026-f1a5-d930a483e85e"
      },
      "outputs": [
        {
          "data": {
            "text/plain": [
              "array([[0, 0, 0, ..., 0, 0, 0],\n",
              "       [0, 0, 0, ..., 0, 0, 0],\n",
              "       [0, 0, 0, ..., 0, 0, 0]])"
            ]
          },
          "execution_count": 18,
          "metadata": {},
          "output_type": "execute_result"
        }
      ],
      "source": [
        "X[1:5][1:5]"
      ]
    },
    {
      "cell_type": "code",
      "execution_count": null,
      "metadata": {
        "id": "Ra7iNYv0Q7UI"
      },
      "outputs": [],
      "source": [
        "y = dataset['v1'].map({'ham':0,'spam':1})"
      ]
    },
    {
      "cell_type": "code",
      "execution_count": null,
      "metadata": {
        "colab": {
          "base_uri": "https://localhost:8080/"
        },
        "id": "30q1U-WeRJW3",
        "outputId": "a90da0fb-9e46-4ea1-b67a-ed1d375c5ecb"
      },
      "outputs": [
        {
          "name": "stdout",
          "output_type": "stream",
          "text": [
            "0       0\n",
            "1       0\n",
            "2       1\n",
            "3       0\n",
            "4       0\n",
            "       ..\n",
            "5567    1\n",
            "5568    0\n",
            "5569    0\n",
            "5570    0\n",
            "5571    0\n",
            "Name: v1, Length: 5572, dtype: int64\n"
          ]
        }
      ],
      "source": [
        "print(y)"
      ]
    },
    {
      "cell_type": "code",
      "execution_count": null,
      "metadata": {
        "id": "0mRSK9mNRK-o"
      },
      "outputs": [],
      "source": [
        "from sklearn.model_selection import train_test_split\n",
        "X_train,X_test,y_train,y_test = train_test_split(X,y,test_size=0.2,random_state=0)"
      ]
    },
    {
      "cell_type": "code",
      "execution_count": null,
      "metadata": {
        "colab": {
          "base_uri": "https://localhost:8080/",
          "height": 74
        },
        "id": "khxKRRVNRdou",
        "outputId": "7387baf9-deb3-45d4-dc32-0ed92ba68b53"
      },
      "outputs": [
        {
          "data": {
            "text/html": [
              "<style>#sk-container-id-1 {color: black;background-color: white;}#sk-container-id-1 pre{padding: 0;}#sk-container-id-1 div.sk-toggleable {background-color: white;}#sk-container-id-1 label.sk-toggleable__label {cursor: pointer;display: block;width: 100%;margin-bottom: 0;padding: 0.3em;box-sizing: border-box;text-align: center;}#sk-container-id-1 label.sk-toggleable__label-arrow:before {content: \"▸\";float: left;margin-right: 0.25em;color: #696969;}#sk-container-id-1 label.sk-toggleable__label-arrow:hover:before {color: black;}#sk-container-id-1 div.sk-estimator:hover label.sk-toggleable__label-arrow:before {color: black;}#sk-container-id-1 div.sk-toggleable__content {max-height: 0;max-width: 0;overflow: hidden;text-align: left;background-color: #f0f8ff;}#sk-container-id-1 div.sk-toggleable__content pre {margin: 0.2em;color: black;border-radius: 0.25em;background-color: #f0f8ff;}#sk-container-id-1 input.sk-toggleable__control:checked~div.sk-toggleable__content {max-height: 200px;max-width: 100%;overflow: auto;}#sk-container-id-1 input.sk-toggleable__control:checked~label.sk-toggleable__label-arrow:before {content: \"▾\";}#sk-container-id-1 div.sk-estimator input.sk-toggleable__control:checked~label.sk-toggleable__label {background-color: #d4ebff;}#sk-container-id-1 div.sk-label input.sk-toggleable__control:checked~label.sk-toggleable__label {background-color: #d4ebff;}#sk-container-id-1 input.sk-hidden--visually {border: 0;clip: rect(1px 1px 1px 1px);clip: rect(1px, 1px, 1px, 1px);height: 1px;margin: -1px;overflow: hidden;padding: 0;position: absolute;width: 1px;}#sk-container-id-1 div.sk-estimator {font-family: monospace;background-color: #f0f8ff;border: 1px dotted black;border-radius: 0.25em;box-sizing: border-box;margin-bottom: 0.5em;}#sk-container-id-1 div.sk-estimator:hover {background-color: #d4ebff;}#sk-container-id-1 div.sk-parallel-item::after {content: \"\";width: 100%;border-bottom: 1px solid gray;flex-grow: 1;}#sk-container-id-1 div.sk-label:hover label.sk-toggleable__label {background-color: #d4ebff;}#sk-container-id-1 div.sk-serial::before {content: \"\";position: absolute;border-left: 1px solid gray;box-sizing: border-box;top: 0;bottom: 0;left: 50%;z-index: 0;}#sk-container-id-1 div.sk-serial {display: flex;flex-direction: column;align-items: center;background-color: white;padding-right: 0.2em;padding-left: 0.2em;position: relative;}#sk-container-id-1 div.sk-item {position: relative;z-index: 1;}#sk-container-id-1 div.sk-parallel {display: flex;align-items: stretch;justify-content: center;background-color: white;position: relative;}#sk-container-id-1 div.sk-item::before, #sk-container-id-1 div.sk-parallel-item::before {content: \"\";position: absolute;border-left: 1px solid gray;box-sizing: border-box;top: 0;bottom: 0;left: 50%;z-index: -1;}#sk-container-id-1 div.sk-parallel-item {display: flex;flex-direction: column;z-index: 1;position: relative;background-color: white;}#sk-container-id-1 div.sk-parallel-item:first-child::after {align-self: flex-end;width: 50%;}#sk-container-id-1 div.sk-parallel-item:last-child::after {align-self: flex-start;width: 50%;}#sk-container-id-1 div.sk-parallel-item:only-child::after {width: 0;}#sk-container-id-1 div.sk-dashed-wrapped {border: 1px dashed gray;margin: 0 0.4em 0.5em 0.4em;box-sizing: border-box;padding-bottom: 0.4em;background-color: white;}#sk-container-id-1 div.sk-label label {font-family: monospace;font-weight: bold;display: inline-block;line-height: 1.2em;}#sk-container-id-1 div.sk-label-container {text-align: center;}#sk-container-id-1 div.sk-container {/* jupyter's `normalize.less` sets `[hidden] { display: none; }` but bootstrap.min.css set `[hidden] { display: none !important; }` so we also need the `!important` here to be able to override the default hidden behavior on the sphinx rendered scikit-learn.org. See: https://github.com/scikit-learn/scikit-learn/issues/21755 */display: inline-block !important;position: relative;}#sk-container-id-1 div.sk-text-repr-fallback {display: none;}</style><div id=\"sk-container-id-1\" class=\"sk-top-container\"><div class=\"sk-text-repr-fallback\"><pre>GaussianNB()</pre><b>In a Jupyter environment, please rerun this cell to show the HTML representation or trust the notebook. <br />On GitHub, the HTML representation is unable to render, please try loading this page with nbviewer.org.</b></div><div class=\"sk-container\" hidden><div class=\"sk-item\"><div class=\"sk-estimator sk-toggleable\"><input class=\"sk-toggleable__control sk-hidden--visually\" id=\"sk-estimator-id-1\" type=\"checkbox\" checked><label for=\"sk-estimator-id-1\" class=\"sk-toggleable__label sk-toggleable__label-arrow\">GaussianNB</label><div class=\"sk-toggleable__content\"><pre>GaussianNB()</pre></div></div></div></div></div>"
            ],
            "text/plain": [
              "GaussianNB()"
            ]
          },
          "execution_count": 22,
          "metadata": {},
          "output_type": "execute_result"
        }
      ],
      "source": [
        "from sklearn.naive_bayes import GaussianNB\n",
        "classifier = GaussianNB()\n",
        "classifier.fit(X_train,y_train)"
      ]
    },
    {
      "cell_type": "code",
      "execution_count": null,
      "metadata": {
        "id": "fi80GXk2R5Nx"
      },
      "outputs": [],
      "source": [
        "y_pred = classifier.predict(X_test)"
      ]
    },
    {
      "cell_type": "code",
      "execution_count": null,
      "metadata": {
        "id": "69oNZMRaR_rj"
      },
      "outputs": [],
      "source": [
        "right_pred = 0\n",
        "wrong_pred = 0\n",
        "for i,j in zip(y_test,y_pred):\n",
        "  if i == j:\n",
        "    right_pred+=1\n",
        "  else:\n",
        "    wrong_pred += 1"
      ]
    },
    {
      "cell_type": "code",
      "execution_count": null,
      "metadata": {
        "colab": {
          "base_uri": "https://localhost:8080/"
        },
        "id": "gYTCfAAtSYK1",
        "outputId": "d0eccfb5-f3cb-4a57-8844-0dcb70db8965"
      },
      "outputs": [
        {
          "name": "stdout",
          "output_type": "stream",
          "text": [
            "948\n",
            "167\n"
          ]
        }
      ],
      "source": [
        "print(right_pred)\n",
        "print(wrong_pred)"
      ]
    },
    {
      "cell_type": "code",
      "execution_count": null,
      "metadata": {
        "colab": {
          "base_uri": "https://localhost:8080/"
        },
        "id": "MwIX0qQPSb-D",
        "outputId": "ce3c7723-2f9d-47b9-f910-c5ef02cda8d7"
      },
      "outputs": [
        {
          "name": "stdout",
          "output_type": "stream",
          "text": [
            "[[802  20]\n",
            " [147 146]]\n",
            "0.8502242152466367\n"
          ]
        }
      ],
      "source": [
        "from sklearn.metrics import confusion_matrix\n",
        "from sklearn.metrics import accuracy_score\n",
        "cm = confusion_matrix(y_pred,y_test)\n",
        "print(cm)\n",
        "print(accuracy_score(y_pred,y_test))"
      ]
    },
    {
      "cell_type": "code",
      "execution_count": null,
      "metadata": {
        "colab": {
          "base_uri": "https://localhost:8080/",
          "height": 74
        },
        "id": "kO2Z-EPjS9Nv",
        "outputId": "2ec6880f-21cc-4d91-ca06-1441446c8ac2"
      },
      "outputs": [
        {
          "data": {
            "text/html": [
              "<style>#sk-container-id-2 {color: black;background-color: white;}#sk-container-id-2 pre{padding: 0;}#sk-container-id-2 div.sk-toggleable {background-color: white;}#sk-container-id-2 label.sk-toggleable__label {cursor: pointer;display: block;width: 100%;margin-bottom: 0;padding: 0.3em;box-sizing: border-box;text-align: center;}#sk-container-id-2 label.sk-toggleable__label-arrow:before {content: \"▸\";float: left;margin-right: 0.25em;color: #696969;}#sk-container-id-2 label.sk-toggleable__label-arrow:hover:before {color: black;}#sk-container-id-2 div.sk-estimator:hover label.sk-toggleable__label-arrow:before {color: black;}#sk-container-id-2 div.sk-toggleable__content {max-height: 0;max-width: 0;overflow: hidden;text-align: left;background-color: #f0f8ff;}#sk-container-id-2 div.sk-toggleable__content pre {margin: 0.2em;color: black;border-radius: 0.25em;background-color: #f0f8ff;}#sk-container-id-2 input.sk-toggleable__control:checked~div.sk-toggleable__content {max-height: 200px;max-width: 100%;overflow: auto;}#sk-container-id-2 input.sk-toggleable__control:checked~label.sk-toggleable__label-arrow:before {content: \"▾\";}#sk-container-id-2 div.sk-estimator input.sk-toggleable__control:checked~label.sk-toggleable__label {background-color: #d4ebff;}#sk-container-id-2 div.sk-label input.sk-toggleable__control:checked~label.sk-toggleable__label {background-color: #d4ebff;}#sk-container-id-2 input.sk-hidden--visually {border: 0;clip: rect(1px 1px 1px 1px);clip: rect(1px, 1px, 1px, 1px);height: 1px;margin: -1px;overflow: hidden;padding: 0;position: absolute;width: 1px;}#sk-container-id-2 div.sk-estimator {font-family: monospace;background-color: #f0f8ff;border: 1px dotted black;border-radius: 0.25em;box-sizing: border-box;margin-bottom: 0.5em;}#sk-container-id-2 div.sk-estimator:hover {background-color: #d4ebff;}#sk-container-id-2 div.sk-parallel-item::after {content: \"\";width: 100%;border-bottom: 1px solid gray;flex-grow: 1;}#sk-container-id-2 div.sk-label:hover label.sk-toggleable__label {background-color: #d4ebff;}#sk-container-id-2 div.sk-serial::before {content: \"\";position: absolute;border-left: 1px solid gray;box-sizing: border-box;top: 0;bottom: 0;left: 50%;z-index: 0;}#sk-container-id-2 div.sk-serial {display: flex;flex-direction: column;align-items: center;background-color: white;padding-right: 0.2em;padding-left: 0.2em;position: relative;}#sk-container-id-2 div.sk-item {position: relative;z-index: 1;}#sk-container-id-2 div.sk-parallel {display: flex;align-items: stretch;justify-content: center;background-color: white;position: relative;}#sk-container-id-2 div.sk-item::before, #sk-container-id-2 div.sk-parallel-item::before {content: \"\";position: absolute;border-left: 1px solid gray;box-sizing: border-box;top: 0;bottom: 0;left: 50%;z-index: -1;}#sk-container-id-2 div.sk-parallel-item {display: flex;flex-direction: column;z-index: 1;position: relative;background-color: white;}#sk-container-id-2 div.sk-parallel-item:first-child::after {align-self: flex-end;width: 50%;}#sk-container-id-2 div.sk-parallel-item:last-child::after {align-self: flex-start;width: 50%;}#sk-container-id-2 div.sk-parallel-item:only-child::after {width: 0;}#sk-container-id-2 div.sk-dashed-wrapped {border: 1px dashed gray;margin: 0 0.4em 0.5em 0.4em;box-sizing: border-box;padding-bottom: 0.4em;background-color: white;}#sk-container-id-2 div.sk-label label {font-family: monospace;font-weight: bold;display: inline-block;line-height: 1.2em;}#sk-container-id-2 div.sk-label-container {text-align: center;}#sk-container-id-2 div.sk-container {/* jupyter's `normalize.less` sets `[hidden] { display: none; }` but bootstrap.min.css set `[hidden] { display: none !important; }` so we also need the `!important` here to be able to override the default hidden behavior on the sphinx rendered scikit-learn.org. See: https://github.com/scikit-learn/scikit-learn/issues/21755 */display: inline-block !important;position: relative;}#sk-container-id-2 div.sk-text-repr-fallback {display: none;}</style><div id=\"sk-container-id-2\" class=\"sk-top-container\"><div class=\"sk-text-repr-fallback\"><pre>RandomForestClassifier()</pre><b>In a Jupyter environment, please rerun this cell to show the HTML representation or trust the notebook. <br />On GitHub, the HTML representation is unable to render, please try loading this page with nbviewer.org.</b></div><div class=\"sk-container\" hidden><div class=\"sk-item\"><div class=\"sk-estimator sk-toggleable\"><input class=\"sk-toggleable__control sk-hidden--visually\" id=\"sk-estimator-id-2\" type=\"checkbox\" checked><label for=\"sk-estimator-id-2\" class=\"sk-toggleable__label sk-toggleable__label-arrow\">RandomForestClassifier</label><div class=\"sk-toggleable__content\"><pre>RandomForestClassifier()</pre></div></div></div></div></div>"
            ],
            "text/plain": [
              "RandomForestClassifier()"
            ]
          },
          "execution_count": 28,
          "metadata": {},
          "output_type": "execute_result"
        }
      ],
      "source": [
        "from sklearn.ensemble import RandomForestClassifier\n",
        "classifier1 = RandomForestClassifier()\n",
        "classifier1.fit(X_train,y_train)"
      ]
    },
    {
      "cell_type": "code",
      "execution_count": null,
      "metadata": {
        "id": "UKGzHMMZS1Qd"
      },
      "outputs": [],
      "source": [
        "y_pred = classifier.predict(X_test)"
      ]
    },
    {
      "cell_type": "code",
      "execution_count": null,
      "metadata": {
        "id": "ahxnSAUgTD4S"
      },
      "outputs": [],
      "source": [
        "right_pred = 0\n",
        "wrong_pred = 0\n",
        "for i,j in zip(y_test,y_pred):\n",
        "  if i == j:\n",
        "    right_pred+=1\n",
        "  else:\n",
        "    wrong_pred += 1"
      ]
    },
    {
      "cell_type": "code",
      "execution_count": null,
      "metadata": {
        "colab": {
          "base_uri": "https://localhost:8080/"
        },
        "id": "M7LlWbaVTF8b",
        "outputId": "5bc64011-23e5-4c3e-c8cc-f0642079e357"
      },
      "outputs": [
        {
          "name": "stdout",
          "output_type": "stream",
          "text": [
            "948\n",
            "167\n"
          ]
        }
      ],
      "source": [
        "print(right_pred)\n",
        "print(wrong_pred)"
      ]
    },
    {
      "cell_type": "code",
      "execution_count": null,
      "metadata": {
        "id": "othDMXHxTHkJ"
      },
      "outputs": [],
      "source": [
        "import tensorflow as tf"
      ]
    },
    {
      "cell_type": "code",
      "execution_count": null,
      "metadata": {
        "id": "L50aCkqcTQUE"
      },
      "outputs": [],
      "source": [
        "ann = tf.keras.models.Sequential()\n",
        "ann.add(tf.keras.layers.Dense(units=50,activation='relu'))\n",
        "ann.add(tf.keras.layers.Dense(units=50,activation='relu'))\n",
        "ann.add(tf.keras.layers.Dense(units=1,activation='sigmoid'))"
      ]
    },
    {
      "cell_type": "code",
      "execution_count": null,
      "metadata": {
        "id": "y2U9XIsoUOXE"
      },
      "outputs": [],
      "source": [
        "ann.compile(optimizer = 'adam' , loss = 'binary_crossentropy', metrics = ['accuracy'])"
      ]
    },
    {
      "cell_type": "code",
      "execution_count": null,
      "metadata": {
        "colab": {
          "base_uri": "https://localhost:8080/"
        },
        "id": "Wse-5bSsUcXz",
        "outputId": "112efdf4-7324-4ce0-fe03-600ce7cefa0f"
      },
      "outputs": [
        {
          "name": "stdout",
          "output_type": "stream",
          "text": [
            "Epoch 1/200\n",
            "107/107 [==============================] - 3s 7ms/step - loss: 0.3268 - accuracy: 0.9035\n",
            "Epoch 2/200\n",
            "107/107 [==============================] - 1s 6ms/step - loss: 0.0497 - accuracy: 0.9874\n",
            "Epoch 3/200\n",
            "107/107 [==============================] - 0s 4ms/step - loss: 0.0202 - accuracy: 0.9939\n",
            "Epoch 4/200\n",
            "107/107 [==============================] - 1s 6ms/step - loss: 0.0098 - accuracy: 0.9973\n",
            "Epoch 5/200\n",
            "107/107 [==============================] - 1s 6ms/step - loss: 0.0060 - accuracy: 0.9987\n",
            "Epoch 6/200\n",
            "107/107 [==============================] - 1s 6ms/step - loss: 0.0040 - accuracy: 0.9993\n",
            "Epoch 7/200\n",
            "107/107 [==============================] - 1s 6ms/step - loss: 0.0033 - accuracy: 0.9996\n",
            "Epoch 8/200\n",
            "107/107 [==============================] - 0s 4ms/step - loss: 0.0028 - accuracy: 0.9996\n",
            "Epoch 9/200\n",
            "107/107 [==============================] - 0s 4ms/step - loss: 0.0026 - accuracy: 0.9993\n",
            "Epoch 10/200\n",
            "107/107 [==============================] - 0s 4ms/step - loss: 0.0024 - accuracy: 0.9996\n",
            "Epoch 11/200\n",
            "107/107 [==============================] - 0s 4ms/step - loss: 0.0023 - accuracy: 0.9996\n",
            "Epoch 12/200\n",
            "107/107 [==============================] - 0s 4ms/step - loss: 0.0021 - accuracy: 0.9996\n",
            "Epoch 13/200\n",
            "107/107 [==============================] - 0s 4ms/step - loss: 0.0022 - accuracy: 0.9993\n",
            "Epoch 14/200\n",
            "107/107 [==============================] - 0s 4ms/step - loss: 0.0021 - accuracy: 0.9993\n",
            "Epoch 15/200\n",
            "107/107 [==============================] - 0s 4ms/step - loss: 0.0021 - accuracy: 0.9996\n",
            "Epoch 16/200\n",
            "107/107 [==============================] - 0s 4ms/step - loss: 0.0020 - accuracy: 0.9996\n",
            "Epoch 17/200\n",
            "107/107 [==============================] - 0s 4ms/step - loss: 0.0020 - accuracy: 0.9996\n",
            "Epoch 18/200\n",
            "107/107 [==============================] - 0s 4ms/step - loss: 0.0020 - accuracy: 0.9993\n",
            "Epoch 19/200\n",
            "107/107 [==============================] - 0s 4ms/step - loss: 0.0020 - accuracy: 0.9996\n",
            "Epoch 20/200\n",
            "107/107 [==============================] - 0s 4ms/step - loss: 0.0020 - accuracy: 0.9993\n",
            "Epoch 21/200\n",
            "107/107 [==============================] - 0s 4ms/step - loss: 0.0020 - accuracy: 0.9996\n",
            "Epoch 22/200\n",
            "107/107 [==============================] - 0s 4ms/step - loss: 0.0020 - accuracy: 0.9996\n",
            "Epoch 23/200\n",
            "107/107 [==============================] - 0s 4ms/step - loss: 0.0019 - accuracy: 0.9996\n",
            "Epoch 24/200\n",
            "107/107 [==============================] - 0s 4ms/step - loss: 0.0019 - accuracy: 0.9996\n",
            "Epoch 25/200\n",
            "107/107 [==============================] - 0s 4ms/step - loss: 0.0018 - accuracy: 0.9996\n",
            "Epoch 26/200\n",
            "107/107 [==============================] - 0s 4ms/step - loss: 0.0019 - accuracy: 0.9996\n",
            "Epoch 27/200\n",
            "107/107 [==============================] - 0s 4ms/step - loss: 0.0020 - accuracy: 0.9996\n",
            "Epoch 28/200\n",
            "107/107 [==============================] - 0s 4ms/step - loss: 0.0020 - accuracy: 0.9993\n",
            "Epoch 29/200\n",
            "107/107 [==============================] - 0s 4ms/step - loss: 0.0020 - accuracy: 0.9993\n",
            "Epoch 30/200\n",
            "107/107 [==============================] - 0s 4ms/step - loss: 0.0020 - accuracy: 0.9993\n",
            "Epoch 31/200\n",
            "107/107 [==============================] - 0s 4ms/step - loss: 0.0020 - accuracy: 0.9993\n",
            "Epoch 32/200\n",
            "107/107 [==============================] - 1s 6ms/step - loss: 0.0018 - accuracy: 0.9996\n",
            "Epoch 33/200\n",
            "107/107 [==============================] - 1s 6ms/step - loss: 0.0019 - accuracy: 0.9996\n",
            "Epoch 34/200\n",
            "107/107 [==============================] - 1s 6ms/step - loss: 0.0019 - accuracy: 0.9996\n",
            "Epoch 35/200\n",
            "107/107 [==============================] - 1s 6ms/step - loss: 0.0018 - accuracy: 0.9996\n",
            "Epoch 36/200\n",
            "107/107 [==============================] - 0s 4ms/step - loss: 0.0019 - accuracy: 0.9993\n",
            "Epoch 37/200\n",
            "107/107 [==============================] - 0s 4ms/step - loss: 0.0017 - accuracy: 0.9996\n",
            "Epoch 38/200\n",
            "107/107 [==============================] - 0s 4ms/step - loss: 0.0019 - accuracy: 0.9993\n",
            "Epoch 39/200\n",
            "107/107 [==============================] - 0s 4ms/step - loss: 0.0019 - accuracy: 0.9993\n",
            "Epoch 40/200\n",
            "107/107 [==============================] - 0s 4ms/step - loss: 0.0017 - accuracy: 0.9996\n",
            "Epoch 41/200\n",
            "107/107 [==============================] - 0s 4ms/step - loss: 0.0019 - accuracy: 0.9993\n",
            "Epoch 42/200\n",
            "107/107 [==============================] - 0s 4ms/step - loss: 0.0018 - accuracy: 0.9996\n",
            "Epoch 43/200\n",
            "107/107 [==============================] - 0s 4ms/step - loss: 0.0018 - accuracy: 0.9996\n",
            "Epoch 44/200\n",
            "107/107 [==============================] - 0s 4ms/step - loss: 0.0019 - accuracy: 0.9993\n",
            "Epoch 45/200\n",
            "107/107 [==============================] - 0s 4ms/step - loss: 0.0017 - accuracy: 0.9996\n",
            "Epoch 46/200\n",
            "107/107 [==============================] - 0s 4ms/step - loss: 0.0018 - accuracy: 0.9993\n",
            "Epoch 47/200\n",
            "107/107 [==============================] - 0s 4ms/step - loss: 0.0016 - accuracy: 0.9996\n",
            "Epoch 48/200\n",
            "107/107 [==============================] - 0s 4ms/step - loss: 0.0018 - accuracy: 0.9993\n",
            "Epoch 49/200\n",
            "107/107 [==============================] - 0s 4ms/step - loss: 0.0018 - accuracy: 0.9993\n",
            "Epoch 50/200\n",
            "107/107 [==============================] - 0s 4ms/step - loss: 0.0018 - accuracy: 0.9993\n",
            "Epoch 51/200\n",
            "107/107 [==============================] - 0s 4ms/step - loss: 0.0017 - accuracy: 0.9996\n",
            "Epoch 52/200\n",
            "107/107 [==============================] - 0s 4ms/step - loss: 0.0016 - accuracy: 0.9993\n",
            "Epoch 53/200\n",
            "107/107 [==============================] - 0s 4ms/step - loss: 0.0017 - accuracy: 0.9993\n",
            "Epoch 54/200\n",
            "107/107 [==============================] - 0s 4ms/step - loss: 0.0016 - accuracy: 0.9996\n",
            "Epoch 55/200\n",
            "107/107 [==============================] - 0s 4ms/step - loss: 0.0017 - accuracy: 0.9993\n",
            "Epoch 56/200\n",
            "107/107 [==============================] - 0s 4ms/step - loss: 0.0017 - accuracy: 0.9996\n",
            "Epoch 57/200\n",
            "107/107 [==============================] - 0s 4ms/step - loss: 0.0017 - accuracy: 0.9996\n",
            "Epoch 58/200\n",
            "107/107 [==============================] - 0s 4ms/step - loss: 0.0016 - accuracy: 0.9996\n",
            "Epoch 59/200\n",
            "107/107 [==============================] - 0s 4ms/step - loss: 0.0017 - accuracy: 0.9993\n",
            "Epoch 60/200\n",
            "107/107 [==============================] - 1s 6ms/step - loss: 0.0018 - accuracy: 0.9993\n",
            "Epoch 61/200\n",
            "107/107 [==============================] - 1s 5ms/step - loss: 0.0017 - accuracy: 0.9996\n",
            "Epoch 62/200\n",
            "107/107 [==============================] - 1s 6ms/step - loss: 0.0017 - accuracy: 0.9993\n",
            "Epoch 63/200\n",
            "107/107 [==============================] - 1s 6ms/step - loss: 0.0017 - accuracy: 0.9996\n",
            "Epoch 64/200\n",
            "107/107 [==============================] - 1s 5ms/step - loss: 0.0015 - accuracy: 0.9996\n",
            "Epoch 65/200\n",
            "107/107 [==============================] - 0s 4ms/step - loss: 0.0016 - accuracy: 0.9996\n",
            "Epoch 66/200\n",
            "107/107 [==============================] - 0s 4ms/step - loss: 0.0016 - accuracy: 0.9996\n",
            "Epoch 67/200\n",
            "107/107 [==============================] - 0s 4ms/step - loss: 0.0016 - accuracy: 0.9993\n",
            "Epoch 68/200\n",
            "107/107 [==============================] - 0s 4ms/step - loss: 0.0016 - accuracy: 0.9993\n",
            "Epoch 69/200\n",
            "107/107 [==============================] - 0s 4ms/step - loss: 0.0016 - accuracy: 0.9996\n",
            "Epoch 70/200\n",
            "107/107 [==============================] - 0s 4ms/step - loss: 0.0016 - accuracy: 0.9993\n",
            "Epoch 71/200\n",
            "107/107 [==============================] - 0s 4ms/step - loss: 0.0016 - accuracy: 0.9993\n",
            "Epoch 72/200\n",
            "107/107 [==============================] - 0s 4ms/step - loss: 0.0016 - accuracy: 0.9996\n",
            "Epoch 73/200\n",
            "107/107 [==============================] - 0s 4ms/step - loss: 0.0015 - accuracy: 0.9996\n",
            "Epoch 74/200\n",
            "107/107 [==============================] - 0s 4ms/step - loss: 0.0017 - accuracy: 0.9993\n",
            "Epoch 75/200\n",
            "107/107 [==============================] - 0s 4ms/step - loss: 0.0015 - accuracy: 0.9996\n",
            "Epoch 76/200\n",
            "107/107 [==============================] - 0s 4ms/step - loss: 0.0017 - accuracy: 0.9993\n",
            "Epoch 77/200\n",
            "107/107 [==============================] - 0s 4ms/step - loss: 0.0015 - accuracy: 0.9996\n",
            "Epoch 78/200\n",
            "107/107 [==============================] - 0s 4ms/step - loss: 0.0016 - accuracy: 0.9993\n",
            "Epoch 79/200\n",
            "107/107 [==============================] - 0s 4ms/step - loss: 0.0016 - accuracy: 0.9993\n",
            "Epoch 80/200\n",
            "107/107 [==============================] - 0s 4ms/step - loss: 0.0017 - accuracy: 0.9993\n",
            "Epoch 81/200\n",
            "107/107 [==============================] - 0s 4ms/step - loss: 0.0016 - accuracy: 0.9993\n",
            "Epoch 82/200\n",
            "107/107 [==============================] - 0s 4ms/step - loss: 0.0016 - accuracy: 0.9996\n",
            "Epoch 83/200\n",
            "107/107 [==============================] - 0s 4ms/step - loss: 0.0016 - accuracy: 0.9993\n",
            "Epoch 84/200\n",
            "107/107 [==============================] - 0s 4ms/step - loss: 0.0016 - accuracy: 0.9996\n",
            "Epoch 85/200\n",
            "107/107 [==============================] - 0s 4ms/step - loss: 0.0015 - accuracy: 0.9996\n",
            "Epoch 86/200\n",
            "107/107 [==============================] - 0s 4ms/step - loss: 0.0016 - accuracy: 0.9996\n",
            "Epoch 87/200\n",
            "107/107 [==============================] - 0s 4ms/step - loss: 0.0016 - accuracy: 0.9996\n",
            "Epoch 88/200\n",
            "107/107 [==============================] - 1s 6ms/step - loss: 0.0016 - accuracy: 0.9996\n",
            "Epoch 89/200\n",
            "107/107 [==============================] - 1s 6ms/step - loss: 0.0016 - accuracy: 0.9996\n",
            "Epoch 90/200\n",
            "107/107 [==============================] - 1s 6ms/step - loss: 0.0016 - accuracy: 0.9996\n",
            "Epoch 91/200\n",
            "107/107 [==============================] - 1s 6ms/step - loss: 0.0016 - accuracy: 0.9996\n",
            "Epoch 92/200\n",
            "107/107 [==============================] - 1s 5ms/step - loss: 0.0016 - accuracy: 0.9996\n",
            "Epoch 93/200\n",
            "107/107 [==============================] - 0s 4ms/step - loss: 0.0016 - accuracy: 0.9996\n",
            "Epoch 94/200\n",
            "107/107 [==============================] - 0s 5ms/step - loss: 0.0016 - accuracy: 0.9993\n",
            "Epoch 95/200\n",
            "107/107 [==============================] - 0s 4ms/step - loss: 0.0016 - accuracy: 0.9993\n",
            "Epoch 96/200\n",
            "107/107 [==============================] - 0s 4ms/step - loss: 0.0016 - accuracy: 0.9993\n",
            "Epoch 97/200\n",
            "107/107 [==============================] - 0s 4ms/step - loss: 0.0015 - accuracy: 0.9996\n",
            "Epoch 98/200\n",
            "107/107 [==============================] - 0s 4ms/step - loss: 0.0016 - accuracy: 0.9996\n",
            "Epoch 99/200\n",
            "107/107 [==============================] - 0s 4ms/step - loss: 0.0016 - accuracy: 0.9996\n",
            "Epoch 100/200\n",
            "107/107 [==============================] - 0s 4ms/step - loss: 0.0016 - accuracy: 0.9996\n",
            "Epoch 101/200\n",
            "107/107 [==============================] - 0s 4ms/step - loss: 0.0016 - accuracy: 0.9993\n",
            "Epoch 102/200\n",
            "107/107 [==============================] - 0s 4ms/step - loss: 0.0016 - accuracy: 0.9993\n",
            "Epoch 103/200\n",
            "107/107 [==============================] - 0s 4ms/step - loss: 0.0016 - accuracy: 0.9996\n",
            "Epoch 104/200\n",
            "107/107 [==============================] - 0s 4ms/step - loss: 0.0015 - accuracy: 0.9993\n",
            "Epoch 105/200\n",
            "107/107 [==============================] - 0s 4ms/step - loss: 0.0016 - accuracy: 0.9993\n",
            "Epoch 106/200\n",
            "107/107 [==============================] - 0s 4ms/step - loss: 0.0016 - accuracy: 0.9996\n",
            "Epoch 107/200\n",
            "107/107 [==============================] - 0s 4ms/step - loss: 0.0015 - accuracy: 0.9996\n",
            "Epoch 108/200\n",
            "107/107 [==============================] - 0s 4ms/step - loss: 0.0016 - accuracy: 0.9996\n",
            "Epoch 109/200\n",
            "107/107 [==============================] - 0s 4ms/step - loss: 0.0016 - accuracy: 0.9996\n",
            "Epoch 110/200\n",
            "107/107 [==============================] - 0s 4ms/step - loss: 0.0015 - accuracy: 0.9996\n",
            "Epoch 111/200\n",
            "107/107 [==============================] - 0s 4ms/step - loss: 0.0016 - accuracy: 0.9996\n",
            "Epoch 112/200\n",
            "107/107 [==============================] - 0s 4ms/step - loss: 0.0016 - accuracy: 0.9993\n",
            "Epoch 113/200\n",
            "107/107 [==============================] - 0s 4ms/step - loss: 0.0015 - accuracy: 0.9996\n",
            "Epoch 114/200\n",
            "107/107 [==============================] - 0s 4ms/step - loss: 0.0015 - accuracy: 0.9993\n",
            "Epoch 115/200\n",
            "107/107 [==============================] - 1s 5ms/step - loss: 0.0016 - accuracy: 0.9993\n",
            "Epoch 116/200\n",
            "107/107 [==============================] - 1s 6ms/step - loss: 0.0016 - accuracy: 0.9993\n",
            "Epoch 117/200\n",
            "107/107 [==============================] - 1s 6ms/step - loss: 0.0016 - accuracy: 0.9993\n",
            "Epoch 118/200\n",
            "107/107 [==============================] - 1s 6ms/step - loss: 0.0016 - accuracy: 0.9993\n",
            "Epoch 119/200\n",
            "107/107 [==============================] - 1s 6ms/step - loss: 0.0015 - accuracy: 0.9996\n",
            "Epoch 120/200\n",
            "107/107 [==============================] - 1s 5ms/step - loss: 0.0015 - accuracy: 0.9996\n",
            "Epoch 121/200\n",
            "107/107 [==============================] - 0s 4ms/step - loss: 0.0015 - accuracy: 0.9996\n",
            "Epoch 122/200\n",
            "107/107 [==============================] - 0s 4ms/step - loss: 0.0015 - accuracy: 0.9993\n",
            "Epoch 123/200\n",
            "107/107 [==============================] - 0s 4ms/step - loss: 0.0015 - accuracy: 0.9993\n",
            "Epoch 124/200\n",
            "107/107 [==============================] - 0s 4ms/step - loss: 0.0015 - accuracy: 0.9993\n",
            "Epoch 125/200\n",
            "107/107 [==============================] - 0s 4ms/step - loss: 0.0015 - accuracy: 0.9996\n",
            "Epoch 126/200\n",
            "107/107 [==============================] - 0s 4ms/step - loss: 0.0015 - accuracy: 0.9993\n",
            "Epoch 127/200\n",
            "107/107 [==============================] - 0s 4ms/step - loss: 0.0016 - accuracy: 0.9996\n",
            "Epoch 128/200\n",
            "107/107 [==============================] - 0s 4ms/step - loss: 0.0016 - accuracy: 0.9996\n",
            "Epoch 129/200\n",
            "107/107 [==============================] - 0s 4ms/step - loss: 0.0015 - accuracy: 0.9996\n",
            "Epoch 130/200\n",
            "107/107 [==============================] - 0s 4ms/step - loss: 0.0016 - accuracy: 0.9993\n",
            "Epoch 131/200\n",
            "107/107 [==============================] - 0s 4ms/step - loss: 0.0015 - accuracy: 0.9993\n",
            "Epoch 132/200\n",
            "107/107 [==============================] - 0s 4ms/step - loss: 0.0016 - accuracy: 0.9996\n",
            "Epoch 133/200\n",
            "107/107 [==============================] - 0s 4ms/step - loss: 0.0015 - accuracy: 0.9996\n",
            "Epoch 134/200\n",
            "107/107 [==============================] - 0s 4ms/step - loss: 0.0016 - accuracy: 0.9996\n",
            "Epoch 135/200\n",
            "107/107 [==============================] - 0s 4ms/step - loss: 0.0015 - accuracy: 0.9996\n",
            "Epoch 136/200\n",
            "107/107 [==============================] - 0s 4ms/step - loss: 0.0015 - accuracy: 0.9996\n",
            "Epoch 137/200\n",
            "107/107 [==============================] - 0s 4ms/step - loss: 0.0015 - accuracy: 0.9996\n",
            "Epoch 138/200\n",
            "107/107 [==============================] - 0s 4ms/step - loss: 0.0015 - accuracy: 0.9993\n",
            "Epoch 139/200\n",
            "107/107 [==============================] - 0s 4ms/step - loss: 0.0015 - accuracy: 0.9993\n",
            "Epoch 140/200\n",
            "107/107 [==============================] - 0s 4ms/step - loss: 0.0015 - accuracy: 0.9996\n",
            "Epoch 141/200\n",
            "107/107 [==============================] - 0s 4ms/step - loss: 0.0015 - accuracy: 0.9993\n",
            "Epoch 142/200\n",
            "107/107 [==============================] - 0s 5ms/step - loss: 0.0015 - accuracy: 0.9996\n",
            "Epoch 143/200\n",
            "107/107 [==============================] - 1s 6ms/step - loss: 0.0015 - accuracy: 0.9993\n",
            "Epoch 144/200\n",
            "107/107 [==============================] - 1s 6ms/step - loss: 0.0015 - accuracy: 0.9993\n",
            "Epoch 145/200\n",
            "107/107 [==============================] - 1s 6ms/step - loss: 0.0015 - accuracy: 0.9993\n",
            "Epoch 146/200\n",
            "107/107 [==============================] - 1s 6ms/step - loss: 0.0015 - accuracy: 0.9993\n",
            "Epoch 147/200\n",
            "107/107 [==============================] - 1s 5ms/step - loss: 0.0015 - accuracy: 0.9993\n",
            "Epoch 148/200\n",
            "107/107 [==============================] - 0s 4ms/step - loss: 0.0015 - accuracy: 0.9996\n",
            "Epoch 149/200\n",
            "107/107 [==============================] - 0s 4ms/step - loss: 0.0015 - accuracy: 0.9993\n",
            "Epoch 150/200\n",
            "107/107 [==============================] - 0s 4ms/step - loss: 0.0015 - accuracy: 0.9993\n",
            "Epoch 151/200\n",
            "107/107 [==============================] - 0s 4ms/step - loss: 0.0015 - accuracy: 0.9993\n",
            "Epoch 152/200\n",
            "107/107 [==============================] - 0s 4ms/step - loss: 0.0015 - accuracy: 0.9996\n",
            "Epoch 153/200\n",
            "107/107 [==============================] - 0s 4ms/step - loss: 0.0015 - accuracy: 0.9996\n",
            "Epoch 154/200\n",
            "107/107 [==============================] - 0s 4ms/step - loss: 0.0015 - accuracy: 0.9993\n",
            "Epoch 155/200\n",
            "107/107 [==============================] - 0s 4ms/step - loss: 0.0015 - accuracy: 0.9993\n",
            "Epoch 156/200\n",
            "107/107 [==============================] - 0s 4ms/step - loss: 0.0015 - accuracy: 0.9993\n",
            "Epoch 157/200\n",
            "107/107 [==============================] - 0s 4ms/step - loss: 0.0015 - accuracy: 0.9996\n",
            "Epoch 158/200\n",
            "107/107 [==============================] - 0s 4ms/step - loss: 0.0015 - accuracy: 0.9996\n",
            "Epoch 159/200\n",
            "107/107 [==============================] - 0s 4ms/step - loss: 0.0015 - accuracy: 0.9993\n",
            "Epoch 160/200\n",
            "107/107 [==============================] - 0s 4ms/step - loss: 0.0015 - accuracy: 0.9993\n",
            "Epoch 161/200\n",
            "107/107 [==============================] - 0s 4ms/step - loss: 0.0015 - accuracy: 0.9996\n",
            "Epoch 162/200\n",
            "107/107 [==============================] - 0s 4ms/step - loss: 0.0015 - accuracy: 0.9993\n",
            "Epoch 163/200\n",
            "107/107 [==============================] - 0s 4ms/step - loss: 0.0015 - accuracy: 0.9996\n",
            "Epoch 164/200\n",
            "107/107 [==============================] - 0s 4ms/step - loss: 0.0015 - accuracy: 0.9993\n",
            "Epoch 165/200\n",
            "107/107 [==============================] - 0s 4ms/step - loss: 0.0015 - accuracy: 0.9996\n",
            "Epoch 166/200\n",
            "107/107 [==============================] - 0s 4ms/step - loss: 0.0015 - accuracy: 0.9993\n",
            "Epoch 167/200\n",
            "107/107 [==============================] - 0s 4ms/step - loss: 0.0015 - accuracy: 0.9996\n",
            "Epoch 168/200\n",
            "107/107 [==============================] - 0s 4ms/step - loss: 0.0015 - accuracy: 0.9996\n",
            "Epoch 169/200\n",
            "107/107 [==============================] - 0s 4ms/step - loss: 0.0015 - accuracy: 0.9996\n",
            "Epoch 170/200\n",
            "107/107 [==============================] - 1s 6ms/step - loss: 0.0015 - accuracy: 0.9993\n",
            "Epoch 171/200\n",
            "107/107 [==============================] - 1s 12ms/step - loss: 0.0015 - accuracy: 0.9996\n",
            "Epoch 172/200\n",
            "107/107 [==============================] - 2s 15ms/step - loss: 0.0015 - accuracy: 0.9993\n",
            "Epoch 173/200\n",
            "107/107 [==============================] - 1s 9ms/step - loss: 0.0015 - accuracy: 0.9996\n",
            "Epoch 174/200\n",
            "107/107 [==============================] - 1s 7ms/step - loss: 0.0015 - accuracy: 0.9993\n",
            "Epoch 175/200\n",
            "107/107 [==============================] - 1s 7ms/step - loss: 0.0015 - accuracy: 0.9996\n",
            "Epoch 176/200\n",
            "107/107 [==============================] - 0s 4ms/step - loss: 0.0015 - accuracy: 0.9993\n",
            "Epoch 177/200\n",
            "107/107 [==============================] - 0s 4ms/step - loss: 0.0015 - accuracy: 0.9996\n",
            "Epoch 178/200\n",
            "107/107 [==============================] - 0s 4ms/step - loss: 0.0015 - accuracy: 0.9993\n",
            "Epoch 179/200\n",
            "107/107 [==============================] - 0s 4ms/step - loss: 0.0015 - accuracy: 0.9996\n",
            "Epoch 180/200\n",
            "107/107 [==============================] - 0s 4ms/step - loss: 0.0014 - accuracy: 0.9993\n",
            "Epoch 181/200\n",
            "107/107 [==============================] - 0s 4ms/step - loss: 0.0015 - accuracy: 0.9996\n",
            "Epoch 182/200\n",
            "107/107 [==============================] - 0s 4ms/step - loss: 0.0014 - accuracy: 0.9996\n",
            "Epoch 183/200\n",
            "107/107 [==============================] - 0s 4ms/step - loss: 0.0015 - accuracy: 0.9996\n",
            "Epoch 184/200\n",
            "107/107 [==============================] - 0s 4ms/step - loss: 0.0015 - accuracy: 0.9996\n",
            "Epoch 185/200\n",
            "107/107 [==============================] - 0s 4ms/step - loss: 0.0015 - accuracy: 0.9993\n",
            "Epoch 186/200\n",
            "107/107 [==============================] - 0s 4ms/step - loss: 0.0015 - accuracy: 0.9993\n",
            "Epoch 187/200\n",
            "107/107 [==============================] - 0s 4ms/step - loss: 0.0015 - accuracy: 0.9996\n",
            "Epoch 188/200\n",
            "107/107 [==============================] - 0s 4ms/step - loss: 0.0015 - accuracy: 0.9996\n",
            "Epoch 189/200\n",
            "107/107 [==============================] - 0s 4ms/step - loss: 0.0015 - accuracy: 0.9996\n",
            "Epoch 190/200\n",
            "107/107 [==============================] - 0s 4ms/step - loss: 0.0015 - accuracy: 0.9993\n",
            "Epoch 191/200\n",
            "107/107 [==============================] - 1s 5ms/step - loss: 0.0015 - accuracy: 0.9996\n",
            "Epoch 192/200\n",
            "107/107 [==============================] - 0s 4ms/step - loss: 0.0015 - accuracy: 0.9996\n",
            "Epoch 193/200\n",
            "107/107 [==============================] - 1s 6ms/step - loss: 0.0015 - accuracy: 0.9993\n",
            "Epoch 194/200\n",
            "107/107 [==============================] - 1s 6ms/step - loss: 0.0015 - accuracy: 0.9996\n",
            "Epoch 195/200\n",
            "107/107 [==============================] - 1s 6ms/step - loss: 0.0015 - accuracy: 0.9996\n",
            "Epoch 196/200\n",
            "107/107 [==============================] - 1s 6ms/step - loss: 0.0015 - accuracy: 0.9993\n",
            "Epoch 197/200\n",
            "107/107 [==============================] - 1s 5ms/step - loss: 0.0015 - accuracy: 0.9996\n",
            "Epoch 198/200\n",
            "107/107 [==============================] - 0s 4ms/step - loss: 0.0015 - accuracy: 0.9996\n",
            "Epoch 199/200\n",
            "107/107 [==============================] - 0s 4ms/step - loss: 0.0015 - accuracy: 0.9996\n",
            "Epoch 200/200\n",
            "107/107 [==============================] - 0s 4ms/step - loss: 0.0015 - accuracy: 0.9996\n"
          ]
        },
        {
          "data": {
            "text/plain": [
              "<keras.callbacks.History at 0x7f614fb3c880>"
            ]
          },
          "execution_count": 35,
          "metadata": {},
          "output_type": "execute_result"
        }
      ],
      "source": [
        "ann.fit(X_train,y_train,batch_size=42,epochs = 200)"
      ]
    },
    {
      "cell_type": "code",
      "execution_count": null,
      "metadata": {
        "colab": {
          "base_uri": "https://localhost:8080/"
        },
        "id": "LYpa9hqyUjzq",
        "outputId": "210f4539-74d7-4aa3-d0c3-be19c9691228"
      },
      "outputs": [
        {
          "name": "stdout",
          "output_type": "stream",
          "text": [
            "35/35 [==============================] - 0s 3ms/step\n",
            "1084\n",
            "31\n"
          ]
        }
      ],
      "source": [
        "y_pred = ann.predict(X_test)\n",
        "y_pred = (y_pred > 0.5)\n",
        "\n",
        "right = 0\n",
        "wrong = 0\n",
        "for i,j in zip(y_pred,y_test):\n",
        "  if i == j:\n",
        "    right+=1\n",
        "  else:\n",
        "    wrong+=1\n",
        "print(right)\n",
        "print(wrong)"
      ]
    },
    {
      "cell_type": "code",
      "execution_count": null,
      "metadata": {
        "colab": {
          "base_uri": "https://localhost:8080/"
        },
        "id": "3kipo5cuVUjy",
        "outputId": "ba949376-f788-400a-9fc1-1c36c35b2ada"
      },
      "outputs": [
        {
          "name": "stdout",
          "output_type": "stream",
          "text": [
            "[[935  14]\n",
            " [ 17 149]]\n"
          ]
        },
        {
          "data": {
            "text/plain": [
              "0.9721973094170404"
            ]
          },
          "execution_count": 37,
          "metadata": {},
          "output_type": "execute_result"
        }
      ],
      "source": [
        "from sklearn.metrics import confusion_matrix, accuracy_score\n",
        "cm = confusion_matrix(y_test, y_pred)\n",
        "print(cm)\n",
        "accuracy_score(y_test, y_pred)"
      ]
    },
    {
      "cell_type": "code",
      "execution_count": null,
      "metadata": {
        "id": "ATb_xtWBVX4J"
      },
      "outputs": [],
      "source": []
    }
  ],
  "metadata": {
    "colab": {
      "provenance": []
    },
    "kernelspec": {
      "display_name": "Python 3",
      "name": "python3"
    },
    "language_info": {
      "name": "python"
    }
  },
  "nbformat": 4,
  "nbformat_minor": 0
}
